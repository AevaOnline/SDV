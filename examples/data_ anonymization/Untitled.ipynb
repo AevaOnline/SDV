{
 "cells": [
  {
   "cell_type": "markdown",
   "metadata": {},
   "source": [
    "# DATA ANONYMIZATION\n",
    "\n",
    "## Introduction\n",
    "\n",
    "This notebook show how to use the anonymization feature with an small example. We will start by setting up the notebook, then we will create our dummy dataset and its metadata, and finally we will `model` and `sample` the data, checking the diferencies in both the data and the internal state of the objects.\n",
    "\n",
    "## Notebook preparation"
   ]
  },
  {
   "cell_type": "code",
   "execution_count": 2,
   "metadata": {},
   "outputs": [],
   "source": [
    "import numpy as np\n",
    "import pandas as pd\n",
    "\n",
    "from sdv.data_navigator import DataNavigator\n",
    "from sdv.modeler import Modeler\n",
    "from sdv.sampler import Sampler"
   ]
  },
  {
   "cell_type": "markdown",
   "metadata": {},
   "source": [
    "## Creating dataset and metadata\n",
    "\n",
    "We are going to create a dataset of a single table containing three different columns : `primary_key`, `name` and `credit_card_number` and two different metadata, one that does use anonymization, and the other that it doesn't."
   ]
  },
  {
   "cell_type": "code",
   "execution_count": 5,
   "metadata": {},
   "outputs": [
    {
     "data": {
      "text/html": [
       "<div>\n",
       "<style scoped>\n",
       "    .dataframe tbody tr th:only-of-type {\n",
       "        vertical-align: middle;\n",
       "    }\n",
       "\n",
       "    .dataframe tbody tr th {\n",
       "        vertical-align: top;\n",
       "    }\n",
       "\n",
       "    .dataframe thead th {\n",
       "        text-align: right;\n",
       "    }\n",
       "</style>\n",
       "<table border=\"1\" class=\"dataframe\">\n",
       "  <thead>\n",
       "    <tr style=\"text-align: right;\">\n",
       "      <th></th>\n",
       "      <th>credit_card_number</th>\n",
       "      <th>name</th>\n",
       "      <th>primary_key</th>\n",
       "    </tr>\n",
       "  </thead>\n",
       "  <tbody>\n",
       "    <tr>\n",
       "      <th>0</th>\n",
       "      <td>1111222233334444</td>\n",
       "      <td>John</td>\n",
       "      <td>1</td>\n",
       "    </tr>\n",
       "    <tr>\n",
       "      <th>1</th>\n",
       "      <td>0000999988887777</td>\n",
       "      <td>Mike</td>\n",
       "      <td>2</td>\n",
       "    </tr>\n",
       "  </tbody>\n",
       "</table>\n",
       "</div>"
      ],
      "text/plain": [
       "  credit_card_number  name  primary_key\n",
       "0   1111222233334444  John            1\n",
       "1   0000999988887777  Mike            2"
      ]
     },
     "execution_count": 5,
     "metadata": {},
     "output_type": "execute_result"
    }
   ],
   "source": [
    "table_data = pd.DataFrame([\n",
    "    {\n",
    "        'primary_key': 1,\n",
    "        'name': 'John',\n",
    "        'credit_card_number': '1111222233334444'\n",
    "    },\n",
    "    {\n",
    "        'primary_key': 2,\n",
    "        'name': 'Mike',\n",
    "        'credit_card_number': '0000999988887777'\n",
    "    }\n",
    "])\n",
    "table_data"
   ]
  },
  {
   "cell_type": "markdown",
   "metadata": {},
   "source": [
    "Now we are going to generate the metadata. There are, a part from the anonymization parameters, two major differences with the other example metadata:\n",
    "\n",
    "- As we intend to use a DataNavigator passing the already formatted `sdv.data_navigator.Table` instances, and it won't load from disk, it doesn't matter the `name` and `path` keys, as won't be used.\n",
    "\n",
    "- As we intend to pass the metadata directly to the `DataNavigator` as a python dict, we will be using Python sintax, not JSON."
   ]
  },
  {
   "cell_type": "code",
   "execution_count": 7,
   "metadata": {},
   "outputs": [
    {
     "data": {
      "text/plain": [
       "{'fields': [{'name': 'name', 'type': 'categorical'},\n",
       "  {'name': 'credit_card', 'type': 'categorical'},\n",
       "  {'name': 'primary_key',\n",
       "   'subtype': 'integer',\n",
       "   'type': 'number',\n",
       "   'regex': '^[0-9]{10}$'}],\n",
       " 'headers': True,\n",
       " 'name': 'DEMO_TABLE',\n",
       " 'path': 'customers.csv',\n",
       " 'primary_key': 'primary_key',\n",
       " 'use': True}"
      ]
     },
     "execution_count": 7,
     "metadata": {},
     "output_type": "execute_result"
    }
   ],
   "source": [
    "normal_table_metadata = {\n",
    "    'fields': [\n",
    "        {\n",
    "            'name': 'name', \n",
    "            'type': 'categorical', \n",
    "        },\n",
    "        {\n",
    "            'name': 'credit_card', \n",
    "            'type': 'categorical', \n",
    "        },\n",
    "        {\n",
    "            'name': 'primary_key', \n",
    "            'subtype': 'integer', \n",
    "            'type': 'number', \n",
    "            'regex': '^[0-9]{10}$'\n",
    "        },\n",
    "\n",
    "    ],\n",
    "    'headers': True,\n",
    "    'name': None,\n",
    "    'path': None,\n",
    "    'primary_key': 'primary_key',\n",
    "    'use': True\n",
    "}\n",
    "normal_table_metadata"
   ]
  },
  {
   "cell_type": "code",
   "execution_count": 8,
   "metadata": {},
   "outputs": [
    {
     "data": {
      "text/plain": [
       "{'fields': [{'name': 'name',\n",
       "   'type': 'categorical',\n",
       "   'pii': True,\n",
       "   'pii_category': 'first_name'},\n",
       "  {'name': 'credit_card',\n",
       "   'type': 'categorical',\n",
       "   'pii': True,\n",
       "   'pii_category': 'credit_card_number'},\n",
       "  {'name': 'primary_key',\n",
       "   'subtype': 'integer',\n",
       "   'type': 'number',\n",
       "   'regex': '^[0-9]{10}$'}],\n",
       " 'headers': True,\n",
       " 'name': None,\n",
       " 'path': None,\n",
       " 'primary_key': 'primary_key',\n",
       " 'use': True}"
      ]
     },
     "execution_count": 8,
     "metadata": {},
     "output_type": "execute_result"
    }
   ],
   "source": [
    "anon_table_metadata = {\n",
    "    'fields': [\n",
    "        {\n",
    "            'name': 'name', \n",
    "            'type': 'categorical',\n",
    "            'pii': True,\n",
    "            'pii_category': 'first_name'\n",
    "        },\n",
    "        {\n",
    "            'name': 'credit_card', \n",
    "            'type': 'categorical',\n",
    "            'pii': True,\n",
    "            'pii_category': 'credit_card_number'\n",
    "        },\n",
    "        {\n",
    "            'name': 'primary_key', \n",
    "            'subtype': 'integer', \n",
    "            'type': 'number', \n",
    "            'regex': '^[0-9]{10}$'\n",
    "        },\n",
    "\n",
    "    ],\n",
    "    'headers': True,\n",
    "    'name': None,\n",
    "    'path': None,\n",
    "    'primary_key': 'primary_key',\n",
    "    'use': True\n",
    "}\n",
    "anon_table_metadata"
   ]
  },
  {
   "cell_type": "markdown",
   "metadata": {},
   "source": [
    "Now we will create all the needed objects in order to model and sample our dataset"
   ]
  },
  {
   "cell_type": "code",
   "execution_count": null,
   "metadata": {},
   "outputs": [],
   "source": [
    "normal_dn = DataNavigator"
   ]
  }
 ],
 "metadata": {
  "kernelspec": {
   "display_name": "Python 3",
   "language": "python",
   "name": "python3"
  },
  "language_info": {
   "codemirror_mode": {
    "name": "ipython",
    "version": 3
   },
   "file_extension": ".py",
   "mimetype": "text/x-python",
   "name": "python",
   "nbconvert_exporter": "python",
   "pygments_lexer": "ipython3",
   "version": "3.6.7"
  }
 },
 "nbformat": 4,
 "nbformat_minor": 2
}
